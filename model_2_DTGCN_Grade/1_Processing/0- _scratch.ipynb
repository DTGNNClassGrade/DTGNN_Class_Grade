{
 "cells": [
  {
   "cell_type": "code",
   "execution_count": null,
   "id": "1b1ce7eb-857f-42aa-80d3-597ceadc651b",
   "metadata": {},
   "outputs": [],
   "source": [
    "import os\n",
    "from os import listdir, walk\n",
    "from os.path import isfile, join\n",
    "import cv2\n",
    "import numpy as np\n",
    "\n",
    "work_Directory = os.getcwd()\n"
   ]
  },
  {
   "cell_type": "markdown",
   "id": "856c635c-5bb5-4cd6-8fed-fe6cdfa4ab04",
   "metadata": {},
   "source": [
    "# Obtaining the name of the images in the dataset folder"
   ]
  },
  {
   "cell_type": "code",
   "execution_count": null,
   "id": "f5464915-1ac7-4e4f-a5fc-aa99ce1399be",
   "metadata": {},
   "outputs": [],
   "source": [
    "os.chdir(work_Directory)\n",
    "print(os.getcwd())\n",
    "\n",
    "try:\n",
    "    os.chdir(f'{work_Directory}/dataset/dataverse_files-2/ZT76_39_A')\n",
    "except Exception as e:\n",
    "    print('Encounter an error: ', e)\n",
    "\n",
    "f = []\n",
    "for (dirpath, dirnames, filenames) in walk(os.getcwd()):\n",
    "    f.extend(filenames)\n",
    "    break\n",
    "print(f'The list of files in the dataset folder is {f}')\n",
    "print(f'The number of images in the folder \"ZT76_39_A\" is {len(f)}')\n",
    "\n"
   ]
  },
  {
   "cell_type": "code",
   "execution_count": null,
   "id": "16f980b4-40af-4190-885c-cd32f19d7621",
   "metadata": {},
   "outputs": [],
   "source": [
    "print(dirpath)\n",
    "print(dirnames)\n",
    "print(filenames)"
   ]
  },
  {
   "cell_type": "markdown",
   "id": "2f598bfa-6066-43d9-b03c-d59d1c81ee45",
   "metadata": {},
   "source": [
    "# Another way to read the images and store them into a list with their name"
   ]
  },
  {
   "cell_type": "code",
   "execution_count": null,
   "id": "f5ba613a",
   "metadata": {},
   "outputs": [],
   "source": [
    "import os, cv2\n",
    "\n",
    "def load_images_from_folder(folder_path):\n",
    "    \"\"\"\n",
    "    Loads images from a given folder, returning a list of tuples (filename, image).\n",
    "    \"\"\"\n",
    "    images = []\n",
    "    \n",
    "    # Iterate through the folder\n",
    "    for filename in os.listdir(folder_path):\n",
    "        # Build the full path to the current file\n",
    "        file_path = os.path.join(folder_path, filename)\n",
    "        \n",
    "        # Check if it's an image file (you can extend checks for more formats)\n",
    "        if filename.lower().endswith(('.png', '.jpg', '.jpeg', '.bmp', '.tiff')):\n",
    "            # Read the image using OpenCV\n",
    "            img = cv2.imread(file_path)\n",
    "            if img is not None:\n",
    "                images.append((filename, img))\n",
    "            else:\n",
    "                print(f\"Warning: Could not read {file_path}\")\n",
    "    \n",
    "    return images\n",
    "\n",
    "# ----------------- Load the dataset -----------------\n",
    "image_folder_path = 'dataset/dataverse_files-2/ZT76_39_A'\n",
    "images_with_names = load_images_from_folder(image_folder_path)\n",
    "\n",
    "# Each element in images_with_names is a tuple: (filename, image)\n",
    "for img_tuple in images_with_names:\n",
    "    print(f\"Filename: {img_tuple[0]}, Image shape: {img_tuple[1].shape}\")"
   ]
  },
  {
   "cell_type": "markdown",
   "id": "d49fbbee",
   "metadata": {},
   "source": []
  },
  {
   "cell_type": "markdown",
   "id": "eb88ece9",
   "metadata": {},
   "source": [
    "# Reading the converted dataset to see what is the distribution of the labels"
   ]
  },
  {
   "cell_type": "code",
   "execution_count": null,
   "id": "c33b5d68",
   "metadata": {},
   "outputs": [],
   "source": [
    "import torch\n",
    "\n",
    "dataset  = torch.load('dataset/ConvertedDataset/20250326_GraphDatasetWithJabels.pt')\n",
    "for i in range(10):\n",
    "    print(dataset[i]['y'])"
   ]
  },
  {
   "cell_type": "code",
   "execution_count": null,
   "id": "002d873f",
   "metadata": {},
   "outputs": [],
   "source": [
    "import matplotlib.pyplot as plt\n",
    "from collections import Counter\n",
    "import numpy as np\n",
    "\n",
    "\n",
    "labels = [label['y'] for label in dataset]\n",
    "labels = np.array(labels)\n",
    "print(labels)\n",
    "\n",
    "# 1. Convert each multi-hot vector to a tuple (immutable) so it can be hashed easily\n",
    "tuple_labels = [tuple(label) for label in labels]\n",
    "print(tuple_labels)\n",
    "\n",
    "# 2. Count occurrences of each unique label combination\n",
    "counts = Counter(tuple_labels)\n",
    "\n",
    "# 3. Prepare data for plotting\n",
    "# We'll convert the keys (tuples) to strings for a nicer x-axis\n",
    "label_combinations = [str(k) for k in counts.keys()]\n",
    "occurrences = [counts[k] for k in counts.keys()]\n",
    "\n",
    "# 4. Plot the distribution\n",
    "plt.figure(figsize=(8, 4))\n",
    "bars = plt.bar(label_combinations, occurrences, color='skyblue')\n",
    "plt.xticks(rotation=45, ha='right')\n",
    "plt.xlabel('Label Combination(white, green, blue, yellow, red)')\n",
    "plt.ylabel('Count')\n",
    "plt.title('Distribution of Multi-Label Combinations')\n",
    "plt.tight_layout()\n",
    "\n",
    "# 5. Add the count values on top of each bar\n",
    "for bar in bars:\n",
    "    height = bar.get_height()\n",
    "    plt.text(\n",
    "        bar.get_x() + bar.get_width()/2, \n",
    "        height, \n",
    "        str(height),\n",
    "        ha='center', \n",
    "        va='bottom', \n",
    "        fontsize=10\n",
    "    )\n",
    "\n",
    "plt.show()\n"
   ]
  },
  {
   "cell_type": "code",
   "execution_count": null,
   "id": "f45b2241",
   "metadata": {},
   "outputs": [],
   "source": [
    "dataset[0]"
   ]
  },
  {
   "cell_type": "markdown",
   "id": "01585276",
   "metadata": {},
   "source": [
    "## Comapre the dataset labels for each label.\n",
    "## per-label frequency distribution\n"
   ]
  },
  {
   "cell_type": "code",
   "execution_count": null,
   "id": "223d569f",
   "metadata": {},
   "outputs": [],
   "source": [
    "# Example label names\n",
    "label_names = [\"white\", \"green\", \"blue\", \"yellow\", \"red\"]\n",
    "\n",
    "\n",
    "# Convert to NumPy array for easy summation\n",
    "arr = np.array(labels)\n",
    "\n",
    "# Summation across rows gives the count of how many samples have each label\n",
    "per_label_counts = arr.sum(axis=0)\n",
    "\n",
    "# Plot the per-label frequencies\n",
    "plt.figure(figsize=(6,4))\n",
    "\n",
    "plt.bar(label_names, per_label_counts, color='skyblue')\n",
    "plt.xlabel(\"Labels\")\n",
    "plt.ylabel(\"Frequency\")\n",
    "plt.title(\"Per-Label Frequency in Multi-Label Dataset\")\n",
    "\n",
    "# (Optional) Annotate counts on top of bars\n",
    "for i, count in enumerate(per_label_counts):\n",
    "    plt.text(i, count+0.1, str(int(count)), ha='center', va='bottom')\n",
    "\n",
    "plt.tight_layout()\n",
    "plt.show()\n",
    "\n",
    "# Print out raw counts if you want them in code\n",
    "for label, count in zip(label_names, per_label_counts):\n",
    "    print(f\"{label}: {count}\")"
   ]
  }
 ],
 "metadata": {
  "kernelspec": {
   "display_name": "torch_M2",
   "language": "python",
   "name": "python3"
  },
  "language_info": {
   "codemirror_mode": {
    "name": "ipython",
    "version": 3
   },
   "file_extension": ".py",
   "mimetype": "text/x-python",
   "name": "python",
   "nbconvert_exporter": "python",
   "pygments_lexer": "ipython3",
   "version": "3.11.8"
  }
 },
 "nbformat": 4,
 "nbformat_minor": 5
}
